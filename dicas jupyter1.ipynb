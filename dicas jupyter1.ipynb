{
 "cells": [
  {
   "cell_type": "markdown",
   "metadata": {},
   "source": [
    "# Dicas de Jupyter\n",
    "\n",
    "\n",
    "\n",
    "## Code\n",
    "\n",
    "- O codigo pode ser colocado retangulo verde e verificado no utilizando a seta para frente.\n",
    "\n",
    "## Markdown\n",
    "\n",
    "- Se coloca # na frente da linha para gerar cabeçalhos \n",
    "\n",
    "- Para colocar Link é feito ao cercar o texto em colchetes e, então, a URL em parênteses, ex. [Udacity's home page](https://www.udacity.com).\n",
    "\n",
    "- Para deixar a palavra em itálico usas asterisco ou sublinhado. ex, _gelato_ ou *gelato*.\n",
    "\n",
    "- Para negrito usa dois símbolos asterisco ou sublinhado, **abacate** ou __abacate__ \n",
    "\n",
    "- Existem duas maneiras de mostrar codigo no texto:\n",
    "\n",
    "    1.- insira acentos graves antes e depois do código: `string.punctuation`\n",
    "    \n",
    "    2.- Para criar um bloco de código, comece uma nova linha e delimite o   \n",
    "    código com três acentos graves:\n",
    "   ```\n",
    "   import requests\n",
    "   response = requests.get('https://www.udacity.com')\n",
    "   ```\n",
    "- Expressões matematicas: utiliza as referencias simbolicas do $\\LaTeX$. Envolvendo a equação LaTeX em cifrões.  \n",
    "\n",
    "$$\n",
    "y = \\frac{a}{b+c}\n",
    "$$\n",
    "\n",
    "\n",
    "\n",
    "$$Q(x)=\\left\\{1+\\dfrac{\\int_aˆx f(y)dy}{1+xˆ3} \\right\\}$$\n",
    "\n"
   ]
  },
  {
   "cell_type": "markdown",
   "metadata": {
    "collapsed": true
   },
   "source": []
  },
  {
   "cell_type": "code",
   "execution_count": null,
   "metadata": {
    "collapsed": true
   },
   "outputs": [],
   "source": [
    "\n"
   ]
  },
  {
   "cell_type": "code",
   "execution_count": null,
   "metadata": {
    "collapsed": true
   },
   "outputs": [],
   "source": []
  }
 ],
 "metadata": {
  "kernelspec": {
   "display_name": "Python 3",
   "language": "python",
   "name": "python3"
  },
  "language_info": {
   "codemirror_mode": {
    "name": "ipython",
    "version": 3
   },
   "file_extension": ".py",
   "mimetype": "text/x-python",
   "name": "python",
   "nbconvert_exporter": "python",
   "pygments_lexer": "ipython3",
   "version": "3.6.3"
  }
 },
 "nbformat": 4,
 "nbformat_minor": 2
}
